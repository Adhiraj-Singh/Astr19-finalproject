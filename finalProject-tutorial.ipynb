{
  "metadata": {
    "language_info": {
      "codemirror_mode": {
        "name": "python",
        "version": 3
      },
      "file_extension": ".py",
      "mimetype": "text/x-python",
      "name": "python",
      "nbconvert_exporter": "python",
      "pygments_lexer": "ipython3",
      "version": "3.8"
    },
    "kernelspec": {
      "name": "python",
      "display_name": "Pyolite",
      "language": "python"
    }
  },
  "nbformat_minor": 4,
  "nbformat": 4,
  "cells": [
    {
      "cell_type": "markdown",
      "source": "Implementing the tutorial provided but withastropy fits as the fits reader",
      "metadata": {}
    },
    {
      "cell_type": "markdown",
      "source": "Installing packages",
      "metadata": {}
    },
    {
      "cell_type": "code",
      "source": "!pip install astropy\n!pip install sep",
      "metadata": {},
      "execution_count": null,
      "outputs": []
    },
    {
      "cell_type": "markdown",
      "source": "Setting up imports for data visualization",
      "metadata": {}
    },
    {
      "cell_type": "code",
      "source": "import numpy as np\nimport sep",
      "metadata": {},
      "execution_count": null,
      "outputs": []
    },
    {
      "cell_type": "code",
      "source": "from astropy.io import fits\nimport matplotlib.pyplot as plt\nfrom matplotlib import rcParams\n\n#using inbuilt magic functions\n%matplotlib inline\n\nrcParams['figure.figsize'] = [10.,8.]\n",
      "metadata": {},
      "execution_count": null,
      "outputs": []
    },
    {
      "cell_type": "markdown",
      "source": "Reading in image and data",
      "metadata": {}
    },
    {
      "cell_type": "code",
      "source": "data = fits.open(\"image.fits\")[0].data\nm, s = np.mean(data), np.std(data)\nplt.imshow(data, interpolation='nearest', cmap='gray', vmin=m-s, vmax=m+s, origin='lower')\nplt.colorbar();\n\n# saving image as instructed on canvas\nplt.savefig('firstRender - tutorial.png')\n",
      "metadata": {},
      "execution_count": null,
      "outputs": []
    },
    {
      "cell_type": "markdown",
      "source": "BACK GROUND SUBTRACTION\n",
      "metadata": {}
    },
    {
      "cell_type": "code",
      "source": "bkg = sep.Background(data)",
      "metadata": {},
      "execution_count": null,
      "outputs": []
    },
    {
      "cell_type": "code",
      "source": "print(bkg.globalback)\nprint(bkg.globalrms)\n\n#prints 6852.07 and 65.612 on local machine\n",
      "metadata": {},
      "execution_count": null,
      "outputs": []
    },
    {
      "cell_type": "code",
      "source": "bkg_image = bkg.back()\n\n\n",
      "metadata": {},
      "execution_count": null,
      "outputs": []
    },
    {
      "cell_type": "code",
      "source": "plt.imshow(bkg_image, interpolation='nearest', cmap='gray', origin='lower')\nplt.colorbar();\n\n# saving image\nplt.savefig('render-2-tutorial.png')\n\n",
      "metadata": {},
      "execution_count": null,
      "outputs": []
    },
    {
      "cell_type": "code",
      "source": "bkg_rms = bkg.rms()\n",
      "metadata": {},
      "execution_count": null,
      "outputs": []
    },
    {
      "cell_type": "code",
      "source": "# show the background noise\nplt.imshow(bkg_rms, interpolation='nearest', cmap='gray', origin='lower')\nplt.colorbar();\n\n#saving background noise render image\nplt.savefig('render-3-background-noise.png')",
      "metadata": {},
      "execution_count": null,
      "outputs": []
    },
    {
      "cell_type": "markdown",
      "source": "HERE IS WHERE WE SUBTRACT THE BACKGROUND",
      "metadata": {}
    },
    {
      "cell_type": "code",
      "source": "data_sub = data-bkg\n\n\n#can also do so with bkg.subfrom(data)\n\n",
      "metadata": {},
      "execution_count": null,
      "outputs": []
    },
    {
      "cell_type": "markdown",
      "source": "OBJECT DETECTION\n",
      "metadata": {}
    },
    {
      "cell_type": "code",
      "source": "objects = sep.extract(data_sub, 1.5, err=bkg.globalrms)",
      "metadata": {},
      "execution_count": null,
      "outputs": []
    },
    {
      "cell_type": "code",
      "source": "# how many objects were detected\nlen(objects)",
      "metadata": {},
      "execution_count": null,
      "outputs": []
    },
    {
      "cell_type": "code",
      "source": "from matplotlib.patches import Ellipse\n\n# plot background-subtracted image\nfig, ax = plt.subplots()\nm, s = np.mean(data_sub), np.std(data_sub)\nim = ax.imshow(data_sub, interpolation='nearest', cmap='gray',\n               vmin=m-s, vmax=m+s, origin='lower')\n\n# plot an ellipse for each object\nfor i in range(len(objects)):\n    e = Ellipse(xy=(objects['x'][i], objects['y'][i]),\n                width=6*objects['a'][i],\n                height=6*objects['b'][i],\n                angle=objects['theta'][i] * 180. / np.pi)\n    e.set_facecolor('none')\n    e.set_edgecolor('red')\n    ax.add_artist(e)\n\nplt.savefig('render4-objectplot.png')",
      "metadata": {},
      "execution_count": null,
      "outputs": []
    },
    {
      "cell_type": "code",
      "source": "# available fields\nobjects.dtype.names\n\n#on local machine - output - ('thresh','npix','tnpix','xmin','xmax''ymin','ymax','x','y','x2','y2','xy','errx2','erry2','errxy','a','b','theta','cxx','cyy','cxy','cflux','flux','cpeak','peak''xcpeak','ycpeak','xpeak','ypeak',",
      "metadata": {},
      "execution_count": null,
      "outputs": []
    },
    {
      "cell_type": "markdown",
      "source": "APERTURE PHOTOMETRY\nHere we perform simple circular aperture photometry with a 3 pixel radius at the locations of the objects:\n",
      "metadata": {}
    },
    {
      "cell_type": "code",
      "source": "flux, fluxerr, flag = sep.sum_circle(data_sub, objects['x'], objects['y'],\n                                     3.0, err=bkg.globalrms, gain=1.0)\n",
      "metadata": {},
      "execution_count": null,
      "outputs": []
    },
    {
      "cell_type": "code",
      "source": "# show the first 10 objects results:\nfor i in range(10):\n    print(\"object {:d}: flux = {:f} +/- {:f}\".format(i, flux[i], fluxerr[i]))",
      "metadata": {},
      "execution_count": null,
      "outputs": []
    }
  ]
}