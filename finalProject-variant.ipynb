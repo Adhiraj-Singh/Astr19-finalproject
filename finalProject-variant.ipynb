{
  "metadata": {
    "language_info": {
      "codemirror_mode": {
        "name": "python",
        "version": 3
      },
      "file_extension": ".py",
      "mimetype": "text/x-python",
      "name": "python",
      "nbconvert_exporter": "python",
      "pygments_lexer": "ipython3",
      "version": "3.8"
    },
    "kernelspec": {
      "name": "python",
      "display_name": "Pyolite",
      "language": "python"
    }
  },
  "nbformat_minor": 4,
  "nbformat": 4,
  "cells": [
    {
      "cell_type": "markdown",
      "source": "Redoing tutorial with a different image - \nhlsp_hudf12_hst_wfc3ir_udfmain_f105w_v1.0_drz.fits\n\nYou can download it from https://archive.stsci.edu/pub/hlsp/hudf12/ (Links to an external site.).\n\nRepeating the process - we are going to do some object detection on the image",
      "metadata": {}
    },
    {
      "cell_type": "code",
      "source": "!pip install astropy\n!pip install sep",
      "metadata": {},
      "execution_count": null,
      "outputs": []
    },
    {
      "cell_type": "markdown",
      "source": "Setting up packages and plot sizes",
      "metadata": {}
    },
    {
      "cell_type": "code",
      "source": "import numpy as np\nimport pandas as pd\nimport sep",
      "metadata": {},
      "execution_count": null,
      "outputs": []
    },
    {
      "cell_type": "code",
      "source": "from astropy.io import fits\nimport matplotlib.pyplot as plt\nfrom matplotlib import rcParams\n%matplotlib inline\n\nrcParams['figure.figsize'] = [10., 8.]\n",
      "metadata": {},
      "execution_count": null,
      "outputs": []
    },
    {
      "cell_type": "markdown",
      "source": "Opening image file and reading it in \n",
      "metadata": {}
    },
    {
      "cell_type": "code",
      "source": "data = fits.open(\"hlsp_hudf12_hst_wfc3ir_udfmain_f105w_v1.0_drz.fits\")[0].data",
      "metadata": {},
      "execution_count": null,
      "outputs": []
    },
    {
      "cell_type": "markdown",
      "source": "If you are using SEP to analyze data read from FITS files with astropy.io.fits you may see an error message such as:\n\nValueError: Input array with dtype '>f4' has non-native byte order.\nOnly native byte order arrays are supported. To change the byte\norder of the array 'data', do 'data = data.byteswap().newbyteorder()'\nIt is usually easiest to do this byte-swap operation directly after reading the array from the FITS file. You can even perform the byte swap in-place by doing\n\n>>> data = data.byteswap(inplace=True).newbyteorder()",
      "metadata": {}
    },
    {
      "cell_type": "code",
      "source": " data = data.byteswap(inplace=True).newbyteorder()",
      "metadata": {},
      "execution_count": null,
      "outputs": []
    },
    {
      "cell_type": "code",
      "source": "m, s = np.mean(data), np.std(data)\nplt.imshow(data, interpolation='nearest', cmap='gray', vmin=m-s, vmax=m+s, origin='lower')\nplt.colorbar();\nplt.savefig('render-first-setup.png')\n",
      "metadata": {},
      "execution_count": null,
      "outputs": []
    },
    {
      "cell_type": "markdown",
      "source": "BACKGROUND SUBTRACTION\n",
      "metadata": {}
    },
    {
      "cell_type": "code",
      "source": "bkg = sep.Background(data)\n",
      "metadata": {},
      "execution_count": null,
      "outputs": []
    },
    {
      "cell_type": "code",
      "source": "print(bkg.globalback)\nprint(bkg.globalrms)",
      "metadata": {},
      "execution_count": null,
      "outputs": []
    },
    {
      "cell_type": "code",
      "source": "bkg_image = bkg.back()",
      "metadata": {},
      "execution_count": null,
      "outputs": []
    },
    {
      "cell_type": "code",
      "source": "plt.imshow(bkg_image, interpolation='nearest', cmap='gray', origin='lower')\nplt.colorbar();\nplt.savefig('render-second-background.png')",
      "metadata": {},
      "execution_count": null,
      "outputs": []
    },
    {
      "cell_type": "code",
      "source": "bkg_rms = bkg.rms()",
      "metadata": {},
      "execution_count": null,
      "outputs": []
    },
    {
      "cell_type": "code",
      "source": "plt.imshow(bkg_rms, interpolation='nearest', cmap='gray', origin='lower')\nplt.colorbar();\nplt.savefig('render-third-noise.png')",
      "metadata": {},
      "execution_count": null,
      "outputs": []
    },
    {
      "cell_type": "code",
      "source": "HERE IS WHERE THE SUBTRACTION HAPPENS\n",
      "metadata": {},
      "execution_count": null,
      "outputs": []
    },
    {
      "cell_type": "code",
      "source": "data_sub = data - bkg",
      "metadata": {},
      "execution_count": null,
      "outputs": []
    },
    {
      "cell_type": "markdown",
      "source": "OBJECT DETECTION",
      "metadata": {}
    },
    {
      "cell_type": "code",
      "source": "objects = sep.extract(data_sub, 1.5, err=bkg.globalrms)",
      "metadata": {},
      "execution_count": null,
      "outputs": []
    },
    {
      "cell_type": "code",
      "source": "len(objects)",
      "metadata": {},
      "execution_count": null,
      "outputs": []
    },
    {
      "cell_type": "code",
      "source": "from matplotlib.patches import Ellipse\n\n# plot background-subtracted image\nfig, ax = plt.subplots()\nm, s = np.mean(data_sub), np.std(data_sub)\nim = ax.imshow(data_sub, interpolation='nearest', cmap='gray',\n               vmin=m-s, vmax=m+s, origin='lower')\n\n# plot an ellipse for each object\nfor i in range(len(objects)):\n    e = Ellipse(xy=(objects['x'][i], objects['y'][i]),\n                width=6*objects['a'][i],\n                height=6*objects['b'][i],\n                angle=objects['theta'][i] * 180. / np.pi)\n    e.set_facecolor('none')\n    e.set_edgecolor('red')\n    ax.add_artist(e)\n\nplt.savefig('render-four-detectedobjects.png')",
      "metadata": {},
      "execution_count": null,
      "outputs": []
    },
    {
      "cell_type": "code",
      "source": "objects.dtype.names",
      "metadata": {},
      "execution_count": null,
      "outputs": []
    },
    {
      "cell_type": "markdown",
      "source": "ANALYSING FLUX AND PLOTTING",
      "metadata": {}
    },
    {
      "cell_type": "code",
      "source": "flux_frame = pd.DataFrame(objects['flux'])\n# To see all the data summarized - ease of work instead of personally calculating\n\nflux_frame.describe()",
      "metadata": {},
      "execution_count": null,
      "outputs": []
    },
    {
      "cell_type": "code",
      "source": "df = pd.DataFrame(objects)",
      "metadata": {},
      "execution_count": null,
      "outputs": []
    },
    {
      "cell_type": "code",
      "source": "# Largest outlier\ndf['flux'].max()\n\n# Using in built functions and formatted string we present \nmax_outlier_from_sd= (df['flux'].max() - df['flux'].mean())/ df['flux'].std()\nf\"the greatest outlie is {max_outlier_from_sd} standard deviations from the mean\"",
      "metadata": {},
      "execution_count": null,
      "outputs": []
    },
    {
      "cell_type": "code",
      "source": "#Plotting simple histogram of flux data\n\nplt.hist(objects['flux'], bins = 30)\nplt.xlabel('Flux value')\nplt.ylabel('Occurence')\nplt.title('Flux Plot Histo')\nplt.savefig('fluxplot.png')\n\n",
      "metadata": {},
      "execution_count": null,
      "outputs": []
    },
    {
      "cell_type": "markdown",
      "source": "APERTURE PHOTOMETRY",
      "metadata": {}
    },
    {
      "cell_type": "code",
      "source": "flux, fluxerr, flag = sep.sum_circle(data_sub, objects['x'], objects['y'],\n                                     3.0, err=bkg.globalrms, gain=1.0)",
      "metadata": {},
      "execution_count": null,
      "outputs": []
    },
    {
      "cell_type": "code",
      "source": "# show the first 10 objects results:\nfor i in range(10):\n    print(\"object {:d}: flux = {:f} +/- {:f}\".format(i, flux[i], fluxerr[i]))",
      "metadata": {},
      "execution_count": null,
      "outputs": []
    },
    {
      "cell_type": "markdown",
      "source": "SECTION 8 - MAKING 3 COLOR FALSE IMAGE of the UDF USING RGB->f160w, f125w, f105w. Save the image as a PNG.\n\nA little confused - do the file values replace the RBG positions?",
      "metadata": {}
    },
    {
      "cell_type": "code",
      "source": "blueIntensity = fits.open(\"hlsp_hudf12_hst_wfc3ir_udfmain_f105w_v1.0_drz.fits\")[0].data\ngreenIntensity = fits.open(\"hlsp_hudf12_hst_wfc3ir_udfmain_f125w_v1.0_drz.fits\")[0].data\nredIntensity = fits.open(\"hlsp_hudf12_hst_wfc3ir_udfmain_f160w_v1.0_drz.fits\")[0].data",
      "metadata": {},
      "execution_count": null,
      "outputs": []
    },
    {
      "cell_type": "markdown",
      "source": "I have no idea how to proceed - from online research I would do the following - \n\n1) Rescale the images\n2) Apply each RGB layer using - rgb[0,1,0] etc\n3) Plot image",
      "metadata": {}
    }
  ]
}